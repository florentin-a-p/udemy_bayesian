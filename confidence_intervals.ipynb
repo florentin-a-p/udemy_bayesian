{
 "cells": [
  {
   "cell_type": "code",
   "execution_count": 1,
   "metadata": {},
   "outputs": [],
   "source": [
    "import numpy as np\n",
    "from scipy.stats import norm, t"
   ]
  },
  {
   "cell_type": "code",
   "execution_count": 2,
   "metadata": {},
   "outputs": [],
   "source": [
    "np.random.seed(1)"
   ]
  },
  {
   "cell_type": "markdown",
   "metadata": {},
   "source": [
    "### N=1000"
   ]
  },
  {
   "cell_type": "code",
   "execution_count": 3,
   "metadata": {},
   "outputs": [],
   "source": [
    "N=1000\n",
    "mu=5\n",
    "sigma=2\n",
    "X=np.random.randn(N)*sigma+mu"
   ]
  },
  {
   "cell_type": "code",
   "execution_count": 18,
   "metadata": {},
   "outputs": [
    {
     "name": "stdout",
     "output_type": "stream",
     "text": [
      "4.955959806754385 5.077624952319204 5.199290097884023\n"
     ]
    }
   ],
   "source": [
    "# Z-confidence interval\n",
    "mu_hat = np.mean(X)\n",
    "sigma_hat = np.std(X, ddof=1)\n",
    "z_left = norm.ppf(0.025)\n",
    "z_right = norm.ppf(0.975)\n",
    "lower = mu_hat + (z_left * sigma_hat/np.sqrt(N))\n",
    "upper = mu_hat + (z_right * sigma_hat/np.sqrt(N))\n",
    "print(lower,mu_hat,upper)\n"
   ]
  },
  {
   "cell_type": "code",
   "execution_count": 19,
   "metadata": {},
   "outputs": [
    {
     "name": "stdout",
     "output_type": "stream",
     "text": [
      "4.9558122244324165 5.077624952319204 5.199437680205992\n"
     ]
    }
   ],
   "source": [
    "# t-confidence interval\n",
    "mu_hat = np.mean(X)\n",
    "sigma_hat = np.std(X, ddof=1)\n",
    "t_left = t.ppf(0.025,df=N-1)\n",
    "t_right = t.ppf(0.975,df=N-1)\n",
    "lower = mu_hat + (t_left * sigma_hat/np.sqrt(N))\n",
    "upper = mu_hat + (t_right * sigma_hat/np.sqrt(N))\n",
    "print(lower,mu_hat,upper)\n"
   ]
  },
  {
   "cell_type": "markdown",
   "metadata": {},
   "source": [
    "### N=100"
   ]
  },
  {
   "cell_type": "code",
   "execution_count": 23,
   "metadata": {},
   "outputs": [],
   "source": [
    "N=100\n",
    "mu=5\n",
    "sigma=2\n",
    "X=np.random.randn(N)*sigma+mu"
   ]
  },
  {
   "cell_type": "code",
   "execution_count": 24,
   "metadata": {},
   "outputs": [
    {
     "name": "stdout",
     "output_type": "stream",
     "text": [
      "4.669118235757553 5.084262691921924 5.499407148086295\n"
     ]
    }
   ],
   "source": [
    "# Z-confidence interval\n",
    "mu_hat = np.mean(X)\n",
    "sigma_hat = np.std(X, ddof=1)\n",
    "z_left = norm.ppf(0.025)\n",
    "z_right = norm.ppf(0.975)\n",
    "lower = mu_hat + (z_left * sigma_hat/np.sqrt(N))\n",
    "upper = mu_hat + (z_right * sigma_hat/np.sqrt(N))\n",
    "print(lower,mu_hat,upper)\n"
   ]
  },
  {
   "cell_type": "code",
   "execution_count": 25,
   "metadata": {},
   "outputs": [
    {
     "name": "stdout",
     "output_type": "stream",
     "text": [
      "4.663981159330648 5.084262691921924 5.5045442245132\n"
     ]
    }
   ],
   "source": [
    "# t-confidence interval\n",
    "mu_hat = np.mean(X)\n",
    "sigma_hat = np.std(X, ddof=1)\n",
    "t_left = t.ppf(0.025,df=N-1)\n",
    "t_right = t.ppf(0.975,df=N-1)\n",
    "lower = mu_hat + (t_left * sigma_hat/np.sqrt(N))\n",
    "upper = mu_hat + (t_right * sigma_hat/np.sqrt(N))\n",
    "print(lower,mu_hat,upper)\n"
   ]
  },
  {
   "cell_type": "markdown",
   "metadata": {},
   "source": [
    "### N=10"
   ]
  },
  {
   "cell_type": "code",
   "execution_count": 20,
   "metadata": {},
   "outputs": [],
   "source": [
    "N=10\n",
    "mu=5\n",
    "sigma=2\n",
    "X=np.random.randn(N)*sigma+mu"
   ]
  },
  {
   "cell_type": "code",
   "execution_count": 21,
   "metadata": {},
   "outputs": [
    {
     "name": "stdout",
     "output_type": "stream",
     "text": [
      "2.96419137058889 4.407203255911556 5.850215141234222\n"
     ]
    }
   ],
   "source": [
    "# Z-confidence interval\n",
    "mu_hat = np.mean(X)\n",
    "sigma_hat = np.std(X, ddof=1)\n",
    "z_left = norm.ppf(0.025)\n",
    "z_right = norm.ppf(0.975)\n",
    "lower = mu_hat + (z_left * sigma_hat/np.sqrt(N))\n",
    "upper = mu_hat + (z_right * sigma_hat/np.sqrt(N))\n",
    "print(lower,mu_hat,upper)\n"
   ]
  },
  {
   "cell_type": "code",
   "execution_count": 22,
   "metadata": {},
   "outputs": [
    {
     "name": "stdout",
     "output_type": "stream",
     "text": [
      "2.7417034313986623 4.407203255911556 6.072703080424449\n"
     ]
    }
   ],
   "source": [
    "# t-confidence interval\n",
    "mu_hat = np.mean(X)\n",
    "sigma_hat = np.std(X, ddof=1)\n",
    "t_left = t.ppf(0.025,df=N-1)\n",
    "t_right = t.ppf(0.975,df=N-1)\n",
    "lower = mu_hat + (t_left * sigma_hat/np.sqrt(N))\n",
    "upper = mu_hat + (t_right * sigma_hat/np.sqrt(N))\n",
    "print(lower,mu_hat,upper)\n"
   ]
  },
  {
   "cell_type": "code",
   "execution_count": null,
   "metadata": {},
   "outputs": [],
   "source": []
  },
  {
   "cell_type": "markdown",
   "metadata": {},
   "source": [
    "### N=5"
   ]
  },
  {
   "cell_type": "code",
   "execution_count": 26,
   "metadata": {},
   "outputs": [],
   "source": [
    "N=5\n",
    "mu=5\n",
    "sigma=2\n",
    "X=np.random.randn(N)*sigma+mu"
   ]
  },
  {
   "cell_type": "code",
   "execution_count": 27,
   "metadata": {},
   "outputs": [
    {
     "name": "stdout",
     "output_type": "stream",
     "text": [
      "4.1573722201100525 5.281594198076192 6.405816176042331\n"
     ]
    }
   ],
   "source": [
    "# Z-confidence interval\n",
    "mu_hat = np.mean(X)\n",
    "sigma_hat = np.std(X, ddof=1)\n",
    "z_left = norm.ppf(0.025)\n",
    "z_right = norm.ppf(0.975)\n",
    "lower = mu_hat + (z_left * sigma_hat/np.sqrt(N))\n",
    "upper = mu_hat + (z_right * sigma_hat/np.sqrt(N))\n",
    "print(lower,mu_hat,upper)\n"
   ]
  },
  {
   "cell_type": "code",
   "execution_count": 28,
   "metadata": {},
   "outputs": [
    {
     "name": "stdout",
     "output_type": "stream",
     "text": [
      "3.6890442162905 5.281594198076192 6.874144179861884\n"
     ]
    }
   ],
   "source": [
    "# t-confidence interval\n",
    "mu_hat = np.mean(X)\n",
    "sigma_hat = np.std(X, ddof=1)\n",
    "t_left = t.ppf(0.025,df=N-1)\n",
    "t_right = t.ppf(0.975,df=N-1)\n",
    "lower = mu_hat + (t_left * sigma_hat/np.sqrt(N))\n",
    "upper = mu_hat + (t_right * sigma_hat/np.sqrt(N))\n",
    "print(lower,mu_hat,upper)\n"
   ]
  },
  {
   "cell_type": "code",
   "execution_count": null,
   "metadata": {},
   "outputs": [],
   "source": []
  },
  {
   "cell_type": "markdown",
   "metadata": {},
   "source": [
    "### CI 95%"
   ]
  },
  {
   "cell_type": "code",
   "execution_count": 33,
   "metadata": {},
   "outputs": [],
   "source": [
    "def experiment():\n",
    "    X = np.random.randn(N)*sigma + mu\n",
    "    mu_hat = np.mean(X)\n",
    "    sigma_hat = np.std(X, ddof=1)\n",
    "    t_left = t.ppf(0.025,df=N-1)\n",
    "    t_right = t.ppf(0.975,df=N-1)\n",
    "    lower = mu_hat + t_left * sigma_hat/np.sqrt(N)\n",
    "    upper = mu_hat + t_right * sigma_hat/np.sqrt(N)\n",
    "    return mu > lower and mu < upper\n",
    "    "
   ]
  },
  {
   "cell_type": "code",
   "execution_count": 34,
   "metadata": {},
   "outputs": [
    {
     "data": {
      "text/plain": [
       "True"
      ]
     },
     "execution_count": 34,
     "metadata": {},
     "output_type": "execute_result"
    }
   ],
   "source": [
    "experiment()"
   ]
  },
  {
   "cell_type": "code",
   "execution_count": 35,
   "metadata": {},
   "outputs": [],
   "source": [
    "def multi_experiment(M):\n",
    "    results = [experiment() for _ in range(M)]\n",
    "    return np.mean(results)"
   ]
  },
  {
   "cell_type": "code",
   "execution_count": 36,
   "metadata": {},
   "outputs": [
    {
     "data": {
      "text/plain": [
       "0.9504"
      ]
     },
     "execution_count": 36,
     "metadata": {},
     "output_type": "execute_result"
    }
   ],
   "source": [
    "multi_experiment(10000)"
   ]
  },
  {
   "cell_type": "code",
   "execution_count": null,
   "metadata": {},
   "outputs": [],
   "source": []
  },
  {
   "cell_type": "markdown",
   "metadata": {},
   "source": [
    "### CI 97.5%"
   ]
  },
  {
   "cell_type": "code",
   "execution_count": 45,
   "metadata": {},
   "outputs": [],
   "source": [
    "def experiment():\n",
    "    X = np.random.randn(N)*sigma + mu\n",
    "    mu_hat = np.mean(X)\n",
    "    sigma_hat = np.std(X, ddof=1)\n",
    "    t_left = t.ppf(0.0125,df=N-1)\n",
    "    t_right = t.ppf(0.9875,df=N-1)\n",
    "    lower = mu_hat + t_left * sigma_hat/np.sqrt(N)\n",
    "    upper = mu_hat + t_right * sigma_hat/np.sqrt(N)\n",
    "    return mu > lower and mu < upper\n",
    "    "
   ]
  },
  {
   "cell_type": "code",
   "execution_count": 46,
   "metadata": {},
   "outputs": [
    {
     "data": {
      "text/plain": [
       "True"
      ]
     },
     "execution_count": 46,
     "metadata": {},
     "output_type": "execute_result"
    }
   ],
   "source": [
    "experiment()"
   ]
  },
  {
   "cell_type": "code",
   "execution_count": 47,
   "metadata": {},
   "outputs": [],
   "source": [
    "def multi_experiment(M):\n",
    "    results = [experiment() for _ in range(M)]\n",
    "    return np.mean(results)"
   ]
  },
  {
   "cell_type": "code",
   "execution_count": 48,
   "metadata": {},
   "outputs": [
    {
     "data": {
      "text/plain": [
       "0.9737"
      ]
     },
     "execution_count": 48,
     "metadata": {},
     "output_type": "execute_result"
    }
   ],
   "source": [
    "multi_experiment(10000)"
   ]
  },
  {
   "cell_type": "code",
   "execution_count": null,
   "metadata": {},
   "outputs": [],
   "source": []
  },
  {
   "cell_type": "markdown",
   "metadata": {},
   "source": [
    "### CI 99%"
   ]
  },
  {
   "cell_type": "code",
   "execution_count": 41,
   "metadata": {},
   "outputs": [],
   "source": [
    "def experiment():\n",
    "    X = np.random.randn(N)*sigma + mu\n",
    "    mu_hat = np.mean(X)\n",
    "    sigma_hat = np.std(X, ddof=1)\n",
    "    t_left = t.ppf(0.005,df=N-1)\n",
    "    t_right = t.ppf(0.995,df=N-1)\n",
    "    lower = mu_hat + t_left * sigma_hat/np.sqrt(N)\n",
    "    upper = mu_hat + t_right * sigma_hat/np.sqrt(N)\n",
    "    return mu > lower and mu < upper\n",
    "    "
   ]
  },
  {
   "cell_type": "code",
   "execution_count": 42,
   "metadata": {},
   "outputs": [
    {
     "data": {
      "text/plain": [
       "True"
      ]
     },
     "execution_count": 42,
     "metadata": {},
     "output_type": "execute_result"
    }
   ],
   "source": [
    "experiment()"
   ]
  },
  {
   "cell_type": "code",
   "execution_count": 43,
   "metadata": {},
   "outputs": [],
   "source": [
    "def multi_experiment(M):\n",
    "    results = [experiment() for _ in range(M)]\n",
    "    return np.mean(results)"
   ]
  },
  {
   "cell_type": "code",
   "execution_count": 44,
   "metadata": {},
   "outputs": [
    {
     "data": {
      "text/plain": [
       "0.9892"
      ]
     },
     "execution_count": 44,
     "metadata": {},
     "output_type": "execute_result"
    }
   ],
   "source": [
    "multi_experiment(10000)"
   ]
  },
  {
   "cell_type": "code",
   "execution_count": null,
   "metadata": {},
   "outputs": [],
   "source": []
  },
  {
   "cell_type": "code",
   "execution_count": null,
   "metadata": {},
   "outputs": [],
   "source": []
  },
  {
   "cell_type": "code",
   "execution_count": null,
   "metadata": {},
   "outputs": [],
   "source": []
  },
  {
   "cell_type": "code",
   "execution_count": null,
   "metadata": {},
   "outputs": [],
   "source": []
  },
  {
   "cell_type": "code",
   "execution_count": null,
   "metadata": {},
   "outputs": [],
   "source": []
  },
  {
   "cell_type": "code",
   "execution_count": null,
   "metadata": {},
   "outputs": [],
   "source": []
  },
  {
   "cell_type": "code",
   "execution_count": null,
   "metadata": {},
   "outputs": [],
   "source": []
  },
  {
   "cell_type": "code",
   "execution_count": null,
   "metadata": {},
   "outputs": [],
   "source": []
  }
 ],
 "metadata": {
  "kernelspec": {
   "display_name": "Python 3",
   "language": "python",
   "name": "python3"
  },
  "language_info": {
   "codemirror_mode": {
    "name": "ipython",
    "version": 3
   },
   "file_extension": ".py",
   "mimetype": "text/x-python",
   "name": "python",
   "nbconvert_exporter": "python",
   "pygments_lexer": "ipython3",
   "version": "3.7.7"
  }
 },
 "nbformat": 4,
 "nbformat_minor": 4
}
