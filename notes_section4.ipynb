{
 "cells": [
  {
   "cell_type": "markdown",
   "metadata": {},
   "source": [
    "# Traditional A/B testing"
   ]
  },
  {
   "cell_type": "markdown",
   "metadata": {},
   "source": [
    "2 things affect our confidence of an estimate: <br/>\n",
    "1. how spread out the samples are (more variance -> data is more spread out -> less confident)\n",
    "2. how many samples there are (more samples -> more confident)"
   ]
  },
  {
   "cell_type": "markdown",
   "metadata": {},
   "source": [
    "If we take a look at the confidence interval formula, these rules are pretty obvious\n",
    "$$\\text{95% confidence interval}=\\bigg[\\hat{\\mu}-1.96\\frac{\\hat{\\sigma}}{\\sqrt{N}},\\hat{\\mu}+1.96\\frac{\\hat{\\sigma}}{\\sqrt{N}}\\bigg]$$\n",
    "\n",
    "the **larger the standard deviation** is, the **wider** the interval is, the **less confident** we become in our estimate <br/>\n",
    "the **larger the sample** is, the **narrower** the interval is,  the **more confident** we become in our estimate"
   ]
  },
  {
   "cell_type": "markdown",
   "metadata": {},
   "source": [
    "mean of $\\hat{\\mu}$ is $\\mu$, $E(\\hat{\\mu})=\\mu$"
   ]
  },
  {
   "cell_type": "markdown",
   "metadata": {},
   "source": []
  },
  {
   "cell_type": "markdown",
   "metadata": {},
   "source": []
  },
  {
   "cell_type": "code",
   "execution_count": null,
   "metadata": {},
   "outputs": [],
   "source": []
  },
  {
   "cell_type": "code",
   "execution_count": null,
   "metadata": {},
   "outputs": [],
   "source": []
  },
  {
   "cell_type": "code",
   "execution_count": null,
   "metadata": {},
   "outputs": [],
   "source": []
  }
 ],
 "metadata": {
  "kernelspec": {
   "display_name": "Python 3",
   "language": "python",
   "name": "python3"
  },
  "language_info": {
   "codemirror_mode": {
    "name": "ipython",
    "version": 3
   },
   "file_extension": ".py",
   "mimetype": "text/x-python",
   "name": "python",
   "nbconvert_exporter": "python",
   "pygments_lexer": "ipython3",
   "version": "3.7.7"
  }
 },
 "nbformat": 4,
 "nbformat_minor": 4
}
