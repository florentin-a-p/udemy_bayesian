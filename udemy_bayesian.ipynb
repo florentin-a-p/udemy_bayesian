{
  "nbformat": 4,
  "nbformat_minor": 0,
  "metadata": {
    "colab": {
      "name": "udemy_bayesian.ipynb",
      "provenance": [],
      "authorship_tag": "ABX9TyPn05r2VnF20oFvXpgNuM5S",
      "include_colab_link": true
    },
    "kernelspec": {
      "name": "python3",
      "display_name": "Python 3"
    }
  },
  "cells": [
    {
      "cell_type": "markdown",
      "metadata": {
        "id": "view-in-github",
        "colab_type": "text"
      },
      "source": [
        "<a href=\"https://colab.research.google.com/github/florentin-a-p/udemy_bayesian/blob/main/udemy_bayesian.ipynb\" target=\"_parent\"><img src=\"https://colab.research.google.com/assets/colab-badge.svg\" alt=\"Open In Colab\"/></a>"
      ]
    },
    {
      "cell_type": "code",
      "metadata": {
        "id": "HPj6NBeBwsWq"
      },
      "source": [
        "### Notation ###\n",
        "\n",
        "# hat means sample\n",
        "# no hat means population"
      ],
      "execution_count": null,
      "outputs": []
    },
    {
      "cell_type": "code",
      "metadata": {
        "id": "t1lxcBMxR8Jv"
      },
      "source": [
        "import math\n",
        "import numpy as np\n",
        "import pandas as pd\n",
        "import matplotlib.pyplot as plt\n",
        "from scipy.stats import norm\n",
        "np.random.seed(0)"
      ],
      "execution_count": null,
      "outputs": []
    },
    {
      "cell_type": "markdown",
      "metadata": {
        "id": "20azbq2OFEyB"
      },
      "source": [
        "Maximum Likelihood Simulation"
      ]
    },
    {
      "cell_type": "code",
      "metadata": {
        "id": "ysQAD8y6PLHw"
      },
      "source": [
        "X_height_data = [5.5,5.2,5.7,6,5.3,4.7,6.5,5.8,6.1,5.5]\n",
        "\n",
        "def likelihood_gaussian(x,N,mu,sd):\n",
        "  result = 1\n",
        "  for i in range(0,N):\n",
        "      result = result * (1/math.sqrt(2*math.pi*math.pow(sd,2)))*math.exp((-1/2)*math.pow(((x[i]-mu)/sd),2))\n",
        "  return result"
      ],
      "execution_count": null,
      "outputs": []
    },
    {
      "cell_type": "code",
      "metadata": {
        "colab": {
          "base_uri": "https://localhost:8080/"
        },
        "id": "fslDn2g8TWAm",
        "outputId": "5e0af62f-a794-49b3-dc4f-c6aad00cd280"
      },
      "source": [
        "# mean\n",
        "print(sum(X_height_data)/len(X_height_data))\n",
        "# standard deviation\n",
        "print(np.std(X_height_data))"
      ],
      "execution_count": null,
      "outputs": [
        {
          "output_type": "stream",
          "text": [
            "5.63\n",
            "0.48383881613611773\n"
          ],
          "name": "stdout"
        }
      ]
    },
    {
      "cell_type": "code",
      "metadata": {
        "colab": {
          "base_uri": "https://localhost:8080/"
        },
        "id": "yYQnOrPhPr2P",
        "outputId": "829680ff-9a95-4d32-b3eb-a14f396632d9"
      },
      "source": [
        "# scenario 1\n",
        "mu = 100\n",
        "N = len(X_height_data)\n",
        "sd = 0.2\n",
        "\n",
        "likelihood_gaussian(X_height_data,N,mu,sd)"
      ],
      "execution_count": null,
      "outputs": [
        {
          "output_type": "execute_result",
          "data": {
            "text/plain": [
              "0.0"
            ]
          },
          "metadata": {
            "tags": []
          },
          "execution_count": 20
        }
      ]
    },
    {
      "cell_type": "code",
      "metadata": {
        "colab": {
          "base_uri": "https://localhost:8080/"
        },
        "id": "pvLW3tSpS_Oe",
        "outputId": "d4af5b6e-754e-4cf8-da34-47f695164326"
      },
      "source": [
        "# scenario 2\n",
        "mu = 5.3\n",
        "N = len(X_height_data)\n",
        "sd = 0.2\n",
        "\n",
        "likelihood_gaussian(X_height_data,N,mu,sd)"
      ],
      "execution_count": null,
      "outputs": [
        {
          "output_type": "execute_result",
          "data": {
            "text/plain": [
              "2.390147979651819e-16"
            ]
          },
          "metadata": {
            "tags": []
          },
          "execution_count": 21
        }
      ]
    },
    {
      "cell_type": "code",
      "metadata": {
        "colab": {
          "base_uri": "https://localhost:8080/"
        },
        "id": "35u26cPuTMoR",
        "outputId": "77907c13-0abc-45ef-9448-79ddcb06529a"
      },
      "source": [
        "# scenario 3\n",
        "mu = 5.6\n",
        "N = len(X_height_data)\n",
        "sd = 0.2\n",
        "\n",
        "likelihood_gaussian(X_height_data,N,mu,sd)"
      ],
      "execution_count": null,
      "outputs": [
        {
          "output_type": "execute_result",
          "data": {
            "text/plain": [
              "1.743413062716469e-10"
            ]
          },
          "metadata": {
            "tags": []
          },
          "execution_count": 26
        }
      ]
    },
    {
      "cell_type": "code",
      "metadata": {
        "colab": {
          "base_uri": "https://localhost:8080/"
        },
        "id": "DeQGp2nzTSkZ",
        "outputId": "9c082d38-e024-4d5d-8ffd-3cbd7c24e215"
      },
      "source": [
        "# scenario 4\n",
        "mu = 5.63\n",
        "N = len(X_height_data)\n",
        "sd = 0.2\n",
        "\n",
        "likelihood_gaussian(X_height_data,N,mu,sd)"
      ],
      "execution_count": null,
      "outputs": [
        {
          "output_type": "execute_result",
          "data": {
            "text/plain": [
              "1.951005190825349e-10"
            ]
          },
          "metadata": {
            "tags": []
          },
          "execution_count": 27
        }
      ]
    },
    {
      "cell_type": "code",
      "metadata": {
        "colab": {
          "base_uri": "https://localhost:8080/"
        },
        "id": "fndutpIdUFM4",
        "outputId": "a0e6dd63-050e-4be9-d6c9-996f240e25e1"
      },
      "source": [
        "# scenario 5\n",
        "mu = 5.630\n",
        "N = len(X_height_data)\n",
        "sd = 0.48383881613611773\n",
        "\n",
        "likelihood_gaussian(X_height_data,N,mu,sd)"
      ],
      "execution_count": null,
      "outputs": [
        {
          "output_type": "execute_result",
          "data": {
            "text/plain": [
              "0.0009786359832833615"
            ]
          },
          "metadata": {
            "tags": []
          },
          "execution_count": 34
        }
      ]
    },
    {
      "cell_type": "markdown",
      "metadata": {
        "id": "jEDtlDoQFIQj"
      },
      "source": [
        "CDF and PDF for discrete and continuous"
      ]
    },
    {
      "cell_type": "code",
      "metadata": {
        "id": "pSk_xojNUTNz",
        "colab": {
          "base_uri": "https://localhost:8080/"
        },
        "outputId": "f4bfa975-a439-4336-ce7b-3934ddb3c509"
      },
      "source": [
        "# suppose your friend says that he is in the 95th percentile, and the average height is 170 cm with standard deviation of 7 cm, what is his height?\n",
        "mu = 170\n",
        "sigma = 7\n",
        "\n",
        "\n",
        "norm.ppf(0.95,mu,sigma)"
      ],
      "execution_count": null,
      "outputs": [
        {
          "output_type": "execute_result",
          "data": {
            "text/plain": [
              "181.5139753886603"
            ]
          },
          "metadata": {
            "tags": []
          },
          "execution_count": 5
        }
      ]
    },
    {
      "cell_type": "code",
      "metadata": {
        "id": "WA8sU2fXUTTt",
        "colab": {
          "base_uri": "https://localhost:8080/"
        },
        "outputId": "78b0ca3a-59f3-47f1-e3ad-264670696564"
      },
      "source": [
        "# with the same mu and sigma, suppose your friend is 160 cm, what percentile are they in?\n",
        "norm.cdf(160,mu,sigma)"
      ],
      "execution_count": null,
      "outputs": [
        {
          "output_type": "execute_result",
          "data": {
            "text/plain": [
              "0.07656372550983476"
            ]
          },
          "metadata": {
            "tags": []
          },
          "execution_count": 4
        }
      ]
    },
    {
      "cell_type": "code",
      "metadata": {
        "id": "ul9cWl77AEgz"
      },
      "source": [
        ""
      ],
      "execution_count": null,
      "outputs": []
    },
    {
      "cell_type": "markdown",
      "metadata": {
        "id": "1iFJyRi3AGJF"
      },
      "source": [
        "mean: location parameter\n",
        "\n",
        "standard deviation: scale parameter"
      ]
    },
    {
      "cell_type": "code",
      "metadata": {
        "id": "_tvWhmlRUTY3",
        "colab": {
          "base_uri": "https://localhost:8080/",
          "height": 367
        },
        "outputId": "2dacba63-1d70-47d9-adf3-03c02fc20040"
      },
      "source": [
        "# generate samplse from our distribution\n",
        "mu = 170\n",
        "sd = 7\n",
        "x = norm.rvs(loc=mu, scale=sd, size=100)\n",
        "plt.hist(x)\n",
        "print('(maximum likelihood) mean: ',x.mean())\n",
        "print('(maximum likelihood) variance: ', x.var())\n",
        "print('(manual maximum likelihood) variance: ', ((x-x.mean())**2).sum()/len(x) ) \n",
        "print('unbiased variance: ', x.var(ddof=1) ) \n",
        "print('manual unbiased variance: ', ((x-x.mean())**2).sum()/(len(x)-1) ) \n",
        "print('(maximum likelihood) standard deviation: ', math.pow(x.var(),0.5))"
      ],
      "execution_count": null,
      "outputs": [
        {
          "output_type": "stream",
          "text": [
            "(maximum likelihood) mean:  169.0441120463312\n",
            "(maximum likelihood) variance:  48.65749936966554\n",
            "(manual maximum likelihood) variance:  48.65749936966554\n",
            "unbiased variance:  49.148989262288424\n",
            "manual unbiased variance:  49.148989262288424\n",
            "(maximum likelihood) standard deviation:  6.975492768949412\n"
          ],
          "name": "stdout"
        },
        {
          "output_type": "display_data",
          "data": {
            "image/png": "[encoded data removed]",
            "text/plain": [
              "<Figure size 432x288 with 1 Axes>"
            ]
          },
          "metadata": {
            "tags": [],
            "needs_background": "light"
          }
        }
      ]
    },
    {
      "cell_type": "code",
      "metadata": {
        "id": "T8WBPV2wUUQp",
        "colab": {
          "base_uri": "https://localhost:8080/",
          "height": 316
        },
        "outputId": "2f111eb8-b358-42e3-a48d-bb945adf360b"
      },
      "source": [
        "# generate samplse from our distribution\n",
        "mu = 170\n",
        "sd = 10\n",
        "x = norm.rvs(loc=mu, scale=sd, size=100)\n",
        "plt.hist(x)\n",
        "print('(maximum likelihood) mean: ',x.mean())\n",
        "print('(maximum likelihood) variance: ', x.var())\n",
        "print('(maximum likelihood) standard deviation: ', math.pow(x.var(),0.5))"
      ],
      "execution_count": null,
      "outputs": [
        {
          "output_type": "stream",
          "text": [
            "(maximum likelihood) mean:  170.6511320887236\n",
            "(maximum likelihood) variance:  95.58794711476924\n",
            "(maximum likelihood) standard deviation:  9.776908873195516\n"
          ],
          "name": "stdout"
        },
        {
          "output_type": "display_data",
          "data": {
            "image/png": "[encoded data removed]",
            "text/plain": [
              "<Figure size 432x288 with 1 Axes>"
            ]
          },
          "metadata": {
            "tags": [],
            "needs_background": "light"
          }
        }
      ]
    },
    {
      "cell_type": "code",
      "metadata": {
        "id": "54EF0-q6PLdx",
        "colab": {
          "base_uri": "https://localhost:8080/",
          "height": 316
        },
        "outputId": "6f41867a-4f71-4a11-e625-549596ca9b6d"
      },
      "source": [
        "# generate samplse from our distribution\n",
        "mu = 170\n",
        "sd = 50\n",
        "x = norm.rvs(loc=mu, scale=sd, size=100)\n",
        "plt.hist(x)\n",
        "print('(maximum likelihood) mean: ',x.mean())\n",
        "print('(maximum likelihood) variance: ', x.var())\n",
        "print('(maximum likelihood) standard deviation: ', math.pow(x.var(),0.5))"
      ],
      "execution_count": null,
      "outputs": [
        {
          "output_type": "stream",
          "text": [
            "(maximum likelihood) mean:  166.6906148866335\n",
            "(maximum likelihood) variance:  2675.167900876813\n",
            "(maximum likelihood) standard deviation:  51.7220252975153\n"
          ],
          "name": "stdout"
        },
        {
          "output_type": "display_data",
          "data": {
            "image/png": "[encoded data removed]",
            "text/plain": [
              "<Figure size 432x288 with 1 Axes>"
            ]
          },
          "metadata": {
            "tags": [],
            "needs_background": "light"
          }
        }
      ]
    },
    {
      "cell_type": "code",
      "metadata": {
        "colab": {
          "base_uri": "https://localhost:8080/",
          "height": 316
        },
        "id": "b8by8r3p-rCK",
        "outputId": "be76bbb5-f2b0-4637-fc0b-5950c57a1731"
      },
      "source": [
        "# generate samplse from our distribution\n",
        "mu = 170\n",
        "sd = 100\n",
        "x = norm.rvs(loc=mu, scale=sd, size=100)\n",
        "plt.hist(x)\n",
        "print('(maximum likelihood) mean: ',x.mean())\n",
        "print('(maximum likelihood) variance: ', x.var())\n",
        "print('(maximum likelihood) standard deviation: ', math.pow(x.var(),0.5))"
      ],
      "execution_count": null,
      "outputs": [
        {
          "output_type": "stream",
          "text": [
            "(maximum likelihood) mean:  160.13056412209994\n",
            "(maximum likelihood) variance:  8224.860229657463\n",
            "(maximum likelihood) standard deviation:  90.69101515396915\n"
          ],
          "name": "stdout"
        },
        {
          "output_type": "display_data",
          "data": {
            "image/png": "[encoded data removed]",
            "text/plain": [
              "<Figure size 432x288 with 1 Axes>"
            ]
          },
          "metadata": {
            "tags": [],
            "needs_background": "light"
          }
        }
      ]
    },
    {
      "cell_type": "code",
      "metadata": {
        "id": "ehwISY9X-q_z"
      },
      "source": [
        ""
      ],
      "execution_count": null,
      "outputs": []
    },
    {
      "cell_type": "code",
      "metadata": {
        "id": "QsNYKcMT-q9_"
      },
      "source": [
        ""
      ],
      "execution_count": null,
      "outputs": []
    },
    {
      "cell_type": "code",
      "metadata": {
        "id": "8Klj3_8G-q8B"
      },
      "source": [
        ""
      ],
      "execution_count": null,
      "outputs": []
    },
    {
      "cell_type": "code",
      "metadata": {
        "id": "kvtmV7TS-q6U"
      },
      "source": [
        ""
      ],
      "execution_count": null,
      "outputs": []
    },
    {
      "cell_type": "code",
      "metadata": {
        "id": "qd_GeU6D-q4A"
      },
      "source": [
        ""
      ],
      "execution_count": null,
      "outputs": []
    },
    {
      "cell_type": "code",
      "metadata": {
        "id": "kzJK_2dV-q2O"
      },
      "source": [
        ""
      ],
      "execution_count": null,
      "outputs": []
    },
    {
      "cell_type": "code",
      "metadata": {
        "id": "hb-IB8s9-q0C"
      },
      "source": [
        ""
      ],
      "execution_count": null,
      "outputs": []
    },
    {
      "cell_type": "code",
      "metadata": {
        "id": "3GxU_8bG-qxn"
      },
      "source": [
        ""
      ],
      "execution_count": null,
      "outputs": []
    },
    {
      "cell_type": "code",
      "metadata": {
        "id": "gIPqbBKO-qo7"
      },
      "source": [
        ""
      ],
      "execution_count": null,
      "outputs": []
    },
    {
      "cell_type": "code",
      "metadata": {
        "id": "ZwBj7anQPLgR"
      },
      "source": [
        ""
      ],
      "execution_count": null,
      "outputs": []
    },
    {
      "cell_type": "code",
      "metadata": {
        "id": "VXiy1pSsPLix"
      },
      "source": [
        ""
      ],
      "execution_count": null,
      "outputs": []
    },
    {
      "cell_type": "code",
      "metadata": {
        "id": "dQyXY4tLPLtG"
      },
      "source": [
        ""
      ],
      "execution_count": null,
      "outputs": []
    }
  ]
}