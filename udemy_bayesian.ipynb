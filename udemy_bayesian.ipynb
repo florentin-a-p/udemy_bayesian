{
  "nbformat": 4,
  "nbformat_minor": 0,
  "metadata": {
    "colab": {
      "name": "udemy_bayesian.ipynb",
      "provenance": [],
      "authorship_tag": "ABX9TyONDxdkBh15+WC3R0qlFvKP",
      "include_colab_link": true
    },
    "kernelspec": {
      "name": "python3",
      "display_name": "Python 3"
    }
  },
  "cells": [
    {
      "cell_type": "markdown",
      "metadata": {
        "id": "view-in-github",
        "colab_type": "text"
      },
      "source": [
        "<a href=\"https://colab.research.google.com/github/florentin-a-p/udemy_bayesian/blob/main/udemy_bayesian.ipynb\" target=\"_parent\"><img src=\"https://colab.research.google.com/assets/colab-badge.svg\" alt=\"Open In Colab\"/></a>"
      ]
    },
    {
      "cell_type": "code",
      "metadata": {
        "id": "t1lxcBMxR8Jv"
      },
      "source": [
        "import math"
      ],
      "execution_count": 10,
      "outputs": []
    },
    {
      "cell_type": "code",
      "metadata": {
        "id": "_DJfx5cLOufu"
      },
      "source": [
        "#Maximum Likelihood Simulation"
      ],
      "execution_count": 9,
      "outputs": []
    },
    {
      "cell_type": "code",
      "metadata": {
        "id": "ysQAD8y6PLHw"
      },
      "source": [
        "X_height_data = [5.5,5.2,5.7,6,5.3,4.7,6.5,5.8,6.1,5.5]\n",
        "\n",
        "def likelihood_gaussian(x,N,mu,sd):\n",
        "  result = 1\n",
        "  for i in range(0,N):\n",
        "      result = result * (1/math.sqrt(2*math.pi*math.pow(sd,2)))*math.exp((-1/2)*math.pow(((x[i]-mu)/sd),2))\n",
        "  return result"
      ],
      "execution_count": 19,
      "outputs": []
    },
    {
      "cell_type": "code",
      "metadata": {
        "colab": {
          "base_uri": "https://localhost:8080/"
        },
        "id": "fslDn2g8TWAm",
        "outputId": "a8dc014a-bd47-4907-c847-cd7e5d09c0ed"
      },
      "source": [
        "sum(X_height_data)/len(X_height_data)"
      ],
      "execution_count": 28,
      "outputs": [
        {
          "output_type": "execute_result",
          "data": {
            "text/plain": [
              "5.63"
            ]
          },
          "metadata": {
            "tags": []
          },
          "execution_count": 28
        }
      ]
    },
    {
      "cell_type": "code",
      "metadata": {
        "colab": {
          "base_uri": "https://localhost:8080/"
        },
        "id": "yYQnOrPhPr2P",
        "outputId": "829680ff-9a95-4d32-b3eb-a14f396632d9"
      },
      "source": [
        "# scenario 1\n",
        "mu = 100\n",
        "N = len(X_height_data)\n",
        "sd = 0.2\n",
        "\n",
        "likelihood_gaussian(X_height_data,N,mu,sd)"
      ],
      "execution_count": 20,
      "outputs": [
        {
          "output_type": "execute_result",
          "data": {
            "text/plain": [
              "0.0"
            ]
          },
          "metadata": {
            "tags": []
          },
          "execution_count": 20
        }
      ]
    },
    {
      "cell_type": "code",
      "metadata": {
        "colab": {
          "base_uri": "https://localhost:8080/"
        },
        "id": "pvLW3tSpS_Oe",
        "outputId": "d4af5b6e-754e-4cf8-da34-47f695164326"
      },
      "source": [
        "# scenario 2\n",
        "mu = 5.3\n",
        "N = len(X_height_data)\n",
        "sd = 0.2\n",
        "\n",
        "likelihood_gaussian(X_height_data,N,mu,sd)"
      ],
      "execution_count": 21,
      "outputs": [
        {
          "output_type": "execute_result",
          "data": {
            "text/plain": [
              "2.390147979651819e-16"
            ]
          },
          "metadata": {
            "tags": []
          },
          "execution_count": 21
        }
      ]
    },
    {
      "cell_type": "code",
      "metadata": {
        "colab": {
          "base_uri": "https://localhost:8080/"
        },
        "id": "35u26cPuTMoR",
        "outputId": "77907c13-0abc-45ef-9448-79ddcb06529a"
      },
      "source": [
        "# scenario 3\n",
        "mu = 5.6\n",
        "N = len(X_height_data)\n",
        "sd = 0.2\n",
        "\n",
        "likelihood_gaussian(X_height_data,N,mu,sd)"
      ],
      "execution_count": 26,
      "outputs": [
        {
          "output_type": "execute_result",
          "data": {
            "text/plain": [
              "1.743413062716469e-10"
            ]
          },
          "metadata": {
            "tags": []
          },
          "execution_count": 26
        }
      ]
    },
    {
      "cell_type": "code",
      "metadata": {
        "colab": {
          "base_uri": "https://localhost:8080/"
        },
        "id": "DeQGp2nzTSkZ",
        "outputId": "9c082d38-e024-4d5d-8ffd-3cbd7c24e215"
      },
      "source": [
        "# scenario 4\n",
        "mu = 5.63\n",
        "N = len(X_height_data)\n",
        "sd = 0.2\n",
        "\n",
        "likelihood_gaussian(X_height_data,N,mu,sd)"
      ],
      "execution_count": 27,
      "outputs": [
        {
          "output_type": "execute_result",
          "data": {
            "text/plain": [
              "1.951005190825349e-10"
            ]
          },
          "metadata": {
            "tags": []
          },
          "execution_count": 27
        }
      ]
    },
    {
      "cell_type": "code",
      "metadata": {
        "colab": {
          "base_uri": "https://localhost:8080/"
        },
        "id": "srYUP05pS_CX",
        "outputId": "a991f6c6-bbe8-4d35-c48c-dc293ea18580"
      },
      "source": [
        ""
      ],
      "execution_count": 25,
      "outputs": [
        {
          "output_type": "execute_result",
          "data": {
            "text/plain": [
              "5.63"
            ]
          },
          "metadata": {
            "tags": []
          },
          "execution_count": 25
        }
      ]
    },
    {
      "cell_type": "code",
      "metadata": {
        "id": "54EF0-q6PLdx"
      },
      "source": [
        ""
      ],
      "execution_count": null,
      "outputs": []
    },
    {
      "cell_type": "code",
      "metadata": {
        "id": "ZwBj7anQPLgR"
      },
      "source": [
        ""
      ],
      "execution_count": null,
      "outputs": []
    },
    {
      "cell_type": "code",
      "metadata": {
        "id": "VXiy1pSsPLix"
      },
      "source": [
        ""
      ],
      "execution_count": null,
      "outputs": []
    },
    {
      "cell_type": "code",
      "metadata": {
        "id": "dQyXY4tLPLtG"
      },
      "source": [
        ""
      ],
      "execution_count": null,
      "outputs": []
    }
  ]
}