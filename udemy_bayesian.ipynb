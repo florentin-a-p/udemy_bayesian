{
  "nbformat": 4,
  "nbformat_minor": 0,
  "metadata": {
    "colab": {
      "name": "udemy_bayesian.ipynb",
      "provenance": [],
      "authorship_tag": "ABX9TyM2jYsiNf9QBk8XyRTAUvkB",
      "include_colab_link": true
    },
    "kernelspec": {
      "name": "python3",
      "display_name": "Python 3"
    }
  },
  "cells": [
    {
      "cell_type": "markdown",
      "metadata": {
        "id": "view-in-github",
        "colab_type": "text"
      },
      "source": [
        "<a href=\"https://colab.research.google.com/github/florentin-a-p/udemy_bayesian/blob/main/udemy_bayesian.ipynb\" target=\"_parent\"><img src=\"https://colab.research.google.com/assets/colab-badge.svg\" alt=\"Open In Colab\"/></a>"
      ]
    },
    {
      "cell_type": "code",
      "metadata": {
        "id": "t1lxcBMxR8Jv"
      },
      "source": [
        "import math\n",
        "import numpy as np\n",
        "import pandas as pd"
      ],
      "execution_count": 32,
      "outputs": []
    },
    {
      "cell_type": "code",
      "metadata": {
        "id": "_DJfx5cLOufu"
      },
      "source": [
        "#Maximum Likelihood Simulation"
      ],
      "execution_count": 9,
      "outputs": []
    },
    {
      "cell_type": "code",
      "metadata": {
        "id": "ysQAD8y6PLHw"
      },
      "source": [
        "X_height_data = [5.5,5.2,5.7,6,5.3,4.7,6.5,5.8,6.1,5.5]\n",
        "\n",
        "def likelihood_gaussian(x,N,mu,sd):\n",
        "  result = 1\n",
        "  for i in range(0,N):\n",
        "      result = result * (1/math.sqrt(2*math.pi*math.pow(sd,2)))*math.exp((-1/2)*math.pow(((x[i]-mu)/sd),2))\n",
        "  return result"
      ],
      "execution_count": 19,
      "outputs": []
    },
    {
      "cell_type": "code",
      "metadata": {
        "colab": {
          "base_uri": "https://localhost:8080/"
        },
        "id": "fslDn2g8TWAm",
        "outputId": "5e0af62f-a794-49b3-dc4f-c6aad00cd280"
      },
      "source": [
        "# mean\n",
        "print(sum(X_height_data)/len(X_height_data))\n",
        "# standard deviation\n",
        "print(np.std(X_height_data))"
      ],
      "execution_count": 35,
      "outputs": [
        {
          "output_type": "stream",
          "text": [
            "5.63\n",
            "0.48383881613611773\n"
          ],
          "name": "stdout"
        }
      ]
    },
    {
      "cell_type": "code",
      "metadata": {
        "colab": {
          "base_uri": "https://localhost:8080/"
        },
        "id": "yYQnOrPhPr2P",
        "outputId": "829680ff-9a95-4d32-b3eb-a14f396632d9"
      },
      "source": [
        "# scenario 1\n",
        "mu = 100\n",
        "N = len(X_height_data)\n",
        "sd = 0.2\n",
        "\n",
        "likelihood_gaussian(X_height_data,N,mu,sd)"
      ],
      "execution_count": 20,
      "outputs": [
        {
          "output_type": "execute_result",
          "data": {
            "text/plain": [
              "0.0"
            ]
          },
          "metadata": {
            "tags": []
          },
          "execution_count": 20
        }
      ]
    },
    {
      "cell_type": "code",
      "metadata": {
        "colab": {
          "base_uri": "https://localhost:8080/"
        },
        "id": "pvLW3tSpS_Oe",
        "outputId": "d4af5b6e-754e-4cf8-da34-47f695164326"
      },
      "source": [
        "# scenario 2\n",
        "mu = 5.3\n",
        "N = len(X_height_data)\n",
        "sd = 0.2\n",
        "\n",
        "likelihood_gaussian(X_height_data,N,mu,sd)"
      ],
      "execution_count": 21,
      "outputs": [
        {
          "output_type": "execute_result",
          "data": {
            "text/plain": [
              "2.390147979651819e-16"
            ]
          },
          "metadata": {
            "tags": []
          },
          "execution_count": 21
        }
      ]
    },
    {
      "cell_type": "code",
      "metadata": {
        "colab": {
          "base_uri": "https://localhost:8080/"
        },
        "id": "35u26cPuTMoR",
        "outputId": "77907c13-0abc-45ef-9448-79ddcb06529a"
      },
      "source": [
        "# scenario 3\n",
        "mu = 5.6\n",
        "N = len(X_height_data)\n",
        "sd = 0.2\n",
        "\n",
        "likelihood_gaussian(X_height_data,N,mu,sd)"
      ],
      "execution_count": 26,
      "outputs": [
        {
          "output_type": "execute_result",
          "data": {
            "text/plain": [
              "1.743413062716469e-10"
            ]
          },
          "metadata": {
            "tags": []
          },
          "execution_count": 26
        }
      ]
    },
    {
      "cell_type": "code",
      "metadata": {
        "colab": {
          "base_uri": "https://localhost:8080/"
        },
        "id": "DeQGp2nzTSkZ",
        "outputId": "9c082d38-e024-4d5d-8ffd-3cbd7c24e215"
      },
      "source": [
        "# scenario 4\n",
        "mu = 5.63\n",
        "N = len(X_height_data)\n",
        "sd = 0.2\n",
        "\n",
        "likelihood_gaussian(X_height_data,N,mu,sd)"
      ],
      "execution_count": 27,
      "outputs": [
        {
          "output_type": "execute_result",
          "data": {
            "text/plain": [
              "1.951005190825349e-10"
            ]
          },
          "metadata": {
            "tags": []
          },
          "execution_count": 27
        }
      ]
    },
    {
      "cell_type": "code",
      "metadata": {
        "colab": {
          "base_uri": "https://localhost:8080/"
        },
        "id": "fndutpIdUFM4",
        "outputId": "a0e6dd63-050e-4be9-d6c9-996f240e25e1"
      },
      "source": [
        "# scenario 5\n",
        "mu = 5.630\n",
        "N = len(X_height_data)\n",
        "sd = 0.48383881613611773\n",
        "\n",
        "likelihood_gaussian(X_height_data,N,mu,sd)"
      ],
      "execution_count": 34,
      "outputs": [
        {
          "output_type": "execute_result",
          "data": {
            "text/plain": [
              "0.0009786359832833615"
            ]
          },
          "metadata": {
            "tags": []
          },
          "execution_count": 34
        }
      ]
    },
    {
      "cell_type": "code",
      "metadata": {
        "id": "jxCzAXDYUTE0"
      },
      "source": [
        ""
      ],
      "execution_count": null,
      "outputs": []
    },
    {
      "cell_type": "code",
      "metadata": {
        "id": "pSk_xojNUTNz"
      },
      "source": [
        ""
      ],
      "execution_count": null,
      "outputs": []
    },
    {
      "cell_type": "code",
      "metadata": {
        "id": "WA8sU2fXUTTt"
      },
      "source": [
        ""
      ],
      "execution_count": null,
      "outputs": []
    },
    {
      "cell_type": "code",
      "metadata": {
        "id": "_tvWhmlRUTY3"
      },
      "source": [
        ""
      ],
      "execution_count": null,
      "outputs": []
    },
    {
      "cell_type": "code",
      "metadata": {
        "id": "y6IBHubdUT56"
      },
      "source": [
        ""
      ],
      "execution_count": null,
      "outputs": []
    },
    {
      "cell_type": "code",
      "metadata": {
        "id": "rBlXrx98UUBm"
      },
      "source": [
        ""
      ],
      "execution_count": null,
      "outputs": []
    },
    {
      "cell_type": "code",
      "metadata": {
        "id": "9RIkbr0XUUK8"
      },
      "source": [
        ""
      ],
      "execution_count": null,
      "outputs": []
    },
    {
      "cell_type": "code",
      "metadata": {
        "id": "T8WBPV2wUUQp"
      },
      "source": [
        ""
      ],
      "execution_count": null,
      "outputs": []
    },
    {
      "cell_type": "code",
      "metadata": {
        "id": "54EF0-q6PLdx"
      },
      "source": [
        ""
      ],
      "execution_count": null,
      "outputs": []
    },
    {
      "cell_type": "code",
      "metadata": {
        "id": "ZwBj7anQPLgR"
      },
      "source": [
        ""
      ],
      "execution_count": null,
      "outputs": []
    },
    {
      "cell_type": "code",
      "metadata": {
        "id": "VXiy1pSsPLix"
      },
      "source": [
        ""
      ],
      "execution_count": null,
      "outputs": []
    },
    {
      "cell_type": "code",
      "metadata": {
        "id": "dQyXY4tLPLtG"
      },
      "source": [
        ""
      ],
      "execution_count": null,
      "outputs": []
    }
  ]
}