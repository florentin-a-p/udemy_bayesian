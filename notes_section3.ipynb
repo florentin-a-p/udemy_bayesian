{
 "cells": [
  {
   "cell_type": "code",
   "execution_count": 3,
   "metadata": {},
   "outputs": [],
   "source": [
    "from IPython.display import Image\n",
    "from IPython.core.display import HTML \n",
    "PATH=\"images/\""
   ]
  },
  {
   "cell_type": "markdown",
   "metadata": {},
   "source": [
    "# Probability Review"
   ]
  },
  {
   "cell_type": "markdown",
   "metadata": {},
   "source": [
    "**Sample mean** is usually symbolized by $\\hat{\\mu}$ or $\\bar{x}$"
   ]
  },
  {
   "attachments": {},
   "cell_type": "markdown",
   "metadata": {},
   "source": [
    "Normal distribution $N(\\mu,\\sigma^2)$ = gaussian distribution <br/>\n",
    "Standard normal distribution $N(0,1)$= gaussian distribution with $\\mu = 0$ and $\\sigma^2 = 1$ <br/>\n",
    "\n",
    "If you have normal distribution with $\\mu \\neq 0$ and $\\sigma^2 \\neq 1$, you can turn it into standard normal distribution by doing **standardization** as following:\n",
    "\n",
    "$$z=\\frac{x-\\mu}{\\sigma_0}$$\n",
    "\n",
    "then we can solve for the CDF by using the standard normal distribution table\n",
    "<div>\n",
    "    <img src=\"images/standard_normal.png\" align=\"center\" width=\"500\"/>\n",
    "</div>"
   ]
  },
  {
   "cell_type": "markdown",
   "metadata": {},
   "source": [
    "**From most basic to advanced** <br/>\n",
    "Bernoulli -> Binomial -> Gaussian"
   ]
  },
  {
   "cell_type": "markdown",
   "metadata": {},
   "source": [
    "Marginal probability\n",
    "$$P(A)$$\n",
    "Joint probability\n",
    "$$P(A \\text{and} B) = P(A) * P(B)$$\n",
    "Conditional probability\n",
    "$$P(A \\text{given} B) = P(A|B)$$"
   ]
  },
  {
   "cell_type": "markdown",
   "metadata": {},
   "source": [
    "PMF = probability mass functions (discrete) <br/>\n",
    "PDF = probability density function (continuous)"
   ]
  },
  {
   "attachments": {},
   "cell_type": "markdown",
   "metadata": {},
   "source": [
    "**Intuition for Biased vs Unbiased variance**\n",
    "![intuition_biased_unbiased.png](images/biased_vs_unbiased_variance.png)\n",
    "\n",
    "Biased variance\n",
    "$${s_n}^2=\\frac{\\sum_{i=1}^n(x_i-\\bar{x})^2}{n}$$\n",
    "\n",
    "Unbiased variance\n",
    "$${s_{n-1}}^2=\\frac{\\sum_{i=1}^n(x_i-\\bar{x})^2}{n-1}$$\n",
    "\n",
    "Imagine a number line, where the population mean is larger than the sample mean, and is outside the sample. This means if we use the biased variance formula to calculate the variance, the resulting variance will be smaller than the true population mean. To correct this, we decrease the denominator slightly by changing $n$ to $n-1$ so the resulting variance will be larger and closer to the true population mean"
   ]
  },
  {
   "cell_type": "markdown",
   "metadata": {},
   "source": [
    "In probability, we're given parameter and we want to study the distributions, <br/>\n",
    "In statistics, we're given data and we want to estimate the parameters and test the hypothesis <br/>\n",
    "In machine learning, we build a model where the parameters of the model are learned from the data"
   ]
  },
  {
   "attachments": {},
   "cell_type": "markdown",
   "metadata": {},
   "source": [
    "**Discrete CDF (Cumulative Distribution Function)**\n",
    "\n",
    "<div>\n",
    "    <img src=\"images/discrete_cdf.png\" align=\"center\" width=\"500\"/>\n",
    "</div>\n",
    "\n",
    "In this graph,  <br/>\n",
    "**y-axis**: (PMF) probability mass function <br/>\n",
    "**x-axis**: discrete random variable <br/>\n",
    "\n",
    "\n",
    "In order to get the probability that $X<=x$, sum up all the PMF of $X<=x$, in other words, sum up all the PMF from $-\\infty$ to $x$ as indicated by the following formula\n",
    "$$F(X) = P(X<=x) = \\sum_{k=-\\infty}^{x}p(k)$$\n",
    "\n",
    "$P(X<=x)$ is CDF calculated from PMF\n"
   ]
  },
  {
   "attachments": {},
   "cell_type": "markdown",
   "metadata": {},
   "source": [
    "**Continuous CDF (Cumulative Distribution Function)**\n",
    "\n",
    "<div>\n",
    "    <img src=\"images/continuous_cdf.png\" align=\"center\" width=\"500\"/>\n",
    "</div>\n",
    "\n",
    "In this graph,  <br/>\n",
    "**y-axis**: (PDF) probability distribution function <br/>\n",
    "**x-axis**: continuous random variable <br/>\n",
    "\n",
    "In order to get the probability that $X<=x$, sum up all the PDF of $X<=x$, in other words, integrate the PDF from $-\\infty$ all the way to $x$ as indicated by the following formula\n",
    "$$F(X) = P(X<=x) = \\int_{k=-\\infty}^{x}p(k)\\text{d}k$$\n",
    "\n",
    "\n",
    "$P(X<=x)$ is CDF calculated from PDF"
   ]
  },
  {
   "cell_type": "markdown",
   "metadata": {},
   "source": [
    "Because of its cumulative nature, CDF is never decreasing. It's always 0 at $-\\infty$ and always 1 at $\\infty$"
   ]
  },
  {
   "cell_type": "markdown",
   "metadata": {},
   "source": [
    "**Inverse CDF**\n",
    "\n",
    "The inverse of CDF is Percent Point Function (PPF) or percentile"
   ]
  },
  {
   "cell_type": "code",
   "execution_count": null,
   "metadata": {},
   "outputs": [],
   "source": []
  },
  {
   "cell_type": "code",
   "execution_count": null,
   "metadata": {},
   "outputs": [],
   "source": []
  },
  {
   "cell_type": "code",
   "execution_count": null,
   "metadata": {},
   "outputs": [],
   "source": []
  },
  {
   "cell_type": "code",
   "execution_count": null,
   "metadata": {},
   "outputs": [],
   "source": []
  },
  {
   "cell_type": "code",
   "execution_count": null,
   "metadata": {},
   "outputs": [],
   "source": []
  }
 ],
 "metadata": {
  "kernelspec": {
   "display_name": "Python 3",
   "language": "python",
   "name": "python3"
  },
  "language_info": {
   "codemirror_mode": {
    "name": "ipython",
    "version": 3
   },
   "file_extension": ".py",
   "mimetype": "text/x-python",
   "name": "python",
   "nbconvert_exporter": "python",
   "pygments_lexer": "ipython3",
   "version": "3.7.7"
  }
 },
 "nbformat": 4,
 "nbformat_minor": 4
}
